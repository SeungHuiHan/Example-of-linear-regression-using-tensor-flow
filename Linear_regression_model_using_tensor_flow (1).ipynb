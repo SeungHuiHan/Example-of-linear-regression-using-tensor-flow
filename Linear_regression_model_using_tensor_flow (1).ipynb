{
  "nbformat": 4,
  "nbformat_minor": 0,
  "metadata": {
    "colab": {
      "name": "Linear regression model using tensor flow",
      "provenance": [],
      "collapsed_sections": []
    },
    "kernelspec": {
      "name": "python3",
      "display_name": "Python 3"
    },
    "language_info": {
      "name": "python"
    },
    "accelerator": "GPU"
  },
  "cells": [
    {
      "cell_type": "code",
      "execution_count": null,
      "metadata": {
        "id": "KrwyrMhNKcJF"
      },
      "outputs": [],
      "source": [
        "#선형회귀 모델 구축\n",
        "\n",
        "import tensorflow as tf\n",
        "import numpy as np\n",
        "import matplotlib.pyplot as plt\n",
        "import math\n",
        "from tensorflow.keras.datasets import boston_housing\n",
        " #한글 폰트 설정\n",
        "plt.rc('font', family='NanumBarunGothic')"
      ]
    },
    {
      "cell_type": "code",
      "source": [
        "#시각화 라이브러리에 사용되는 한글 폰트 깨짐 방지\n",
        "!sudo apt-get install -y fonts-nanum\n",
        "!sudo fc-cache -fv\n",
        "!rm ~/.cache/matplotlib -rf"
      ],
      "metadata": {
        "colab": {
          "base_uri": "https://localhost:8080/"
        },
        "id": "c_VbqFFoK1eu",
        "outputId": "6835c48b-c12b-4958-d718-db3ee9e8a184"
      },
      "execution_count": null,
      "outputs": [
        {
          "output_type": "stream",
          "name": "stdout",
          "text": [
            "Reading package lists... Done\n",
            "Building dependency tree       \n",
            "Reading state information... Done\n",
            "The following packages were automatically installed and are no longer required:\n",
            "  cuda-command-line-tools-10-0 cuda-command-line-tools-10-1\n",
            "  cuda-command-line-tools-11-0 cuda-compiler-10-0 cuda-compiler-10-1\n",
            "  cuda-compiler-11-0 cuda-cuobjdump-10-0 cuda-cuobjdump-10-1\n",
            "  cuda-cuobjdump-11-0 cuda-cupti-10-0 cuda-cupti-10-1 cuda-cupti-11-0\n",
            "  cuda-cupti-dev-11-0 cuda-documentation-10-0 cuda-documentation-10-1\n",
            "  cuda-documentation-11-0 cuda-documentation-11-1 cuda-gdb-10-0 cuda-gdb-10-1\n",
            "  cuda-gdb-11-0 cuda-gpu-library-advisor-10-0 cuda-gpu-library-advisor-10-1\n",
            "  cuda-libraries-10-0 cuda-libraries-10-1 cuda-libraries-11-0\n",
            "  cuda-memcheck-10-0 cuda-memcheck-10-1 cuda-memcheck-11-0 cuda-nsight-10-0\n",
            "  cuda-nsight-10-1 cuda-nsight-11-0 cuda-nsight-11-1 cuda-nsight-compute-10-0\n",
            "  cuda-nsight-compute-10-1 cuda-nsight-compute-11-0 cuda-nsight-compute-11-1\n",
            "  cuda-nsight-systems-10-1 cuda-nsight-systems-11-0 cuda-nsight-systems-11-1\n",
            "  cuda-nvcc-10-0 cuda-nvcc-10-1 cuda-nvcc-11-0 cuda-nvdisasm-10-0\n",
            "  cuda-nvdisasm-10-1 cuda-nvdisasm-11-0 cuda-nvml-dev-10-0 cuda-nvml-dev-10-1\n",
            "  cuda-nvml-dev-11-0 cuda-nvprof-10-0 cuda-nvprof-10-1 cuda-nvprof-11-0\n",
            "  cuda-nvprune-10-0 cuda-nvprune-10-1 cuda-nvprune-11-0 cuda-nvtx-10-0\n",
            "  cuda-nvtx-10-1 cuda-nvtx-11-0 cuda-nvvp-10-0 cuda-nvvp-10-1 cuda-nvvp-11-0\n",
            "  cuda-nvvp-11-1 cuda-samples-10-0 cuda-samples-10-1 cuda-samples-11-0\n",
            "  cuda-samples-11-1 cuda-sanitizer-11-0 cuda-sanitizer-api-10-1\n",
            "  cuda-toolkit-10-0 cuda-toolkit-10-1 cuda-toolkit-11-0 cuda-toolkit-11-1\n",
            "  cuda-tools-10-0 cuda-tools-10-1 cuda-tools-11-0 cuda-tools-11-1\n",
            "  cuda-visual-tools-10-0 cuda-visual-tools-10-1 cuda-visual-tools-11-0\n",
            "  cuda-visual-tools-11-1 default-jre dkms freeglut3 freeglut3-dev\n",
            "  keyboard-configuration libargon2-0 libcap2 libcryptsetup12\n",
            "  libdevmapper1.02.1 libfontenc1 libidn11 libip4tc0 libjansson4\n",
            "  libnvidia-cfg1-510 libnvidia-common-460 libnvidia-common-510\n",
            "  libnvidia-extra-510 libnvidia-fbc1-510 libnvidia-gl-510 libpam-systemd\n",
            "  libpolkit-agent-1-0 libpolkit-backend-1-0 libpolkit-gobject-1-0 libxfont2\n",
            "  libxi-dev libxkbfile1 libxmu-dev libxmu-headers libxnvctrl0 libxtst6\n",
            "  nsight-compute-2020.2.1 nsight-compute-2022.1.0 nsight-systems-2020.3.2\n",
            "  nsight-systems-2020.3.4 nsight-systems-2021.5.2 nvidia-dkms-510\n",
            "  nvidia-kernel-common-510 nvidia-kernel-source-510 nvidia-modprobe\n",
            "  nvidia-settings openjdk-11-jre policykit-1 policykit-1-gnome python3-xkit\n",
            "  screen-resolution-extra systemd systemd-sysv udev x11-xkb-utils\n",
            "  xserver-common xserver-xorg-core-hwe-18.04 xserver-xorg-video-nvidia-510\n",
            "Use 'sudo apt autoremove' to remove them.\n",
            "The following NEW packages will be installed:\n",
            "  fonts-nanum\n",
            "0 upgraded, 1 newly installed, 0 to remove and 39 not upgraded.\n",
            "Need to get 9,604 kB of archives.\n",
            "After this operation, 29.5 MB of additional disk space will be used.\n",
            "Get:1 http://archive.ubuntu.com/ubuntu bionic/universe amd64 fonts-nanum all 20170925-1 [9,604 kB]\n",
            "Fetched 9,604 kB in 1s (8,339 kB/s)\n",
            "debconf: unable to initialize frontend: Dialog\n",
            "debconf: (No usable dialog-like program is installed, so the dialog based frontend cannot be used. at /usr/share/perl5/Debconf/FrontEnd/Dialog.pm line 76, <> line 1.)\n",
            "debconf: falling back to frontend: Readline\n",
            "debconf: unable to initialize frontend: Readline\n",
            "debconf: (This frontend requires a controlling tty.)\n",
            "debconf: falling back to frontend: Teletype\n",
            "dpkg-preconfigure: unable to re-open stdin: \n",
            "Selecting previously unselected package fonts-nanum.\n",
            "(Reading database ... 155113 files and directories currently installed.)\n",
            "Preparing to unpack .../fonts-nanum_20170925-1_all.deb ...\n",
            "Unpacking fonts-nanum (20170925-1) ...\n",
            "Setting up fonts-nanum (20170925-1) ...\n",
            "Processing triggers for fontconfig (2.12.6-0ubuntu2) ...\n",
            "/usr/share/fonts: caching, new cache contents: 0 fonts, 1 dirs\n",
            "/usr/share/fonts/truetype: caching, new cache contents: 0 fonts, 3 dirs\n",
            "/usr/share/fonts/truetype/humor-sans: caching, new cache contents: 1 fonts, 0 dirs\n",
            "/usr/share/fonts/truetype/liberation: caching, new cache contents: 16 fonts, 0 dirs\n",
            "/usr/share/fonts/truetype/nanum: caching, new cache contents: 10 fonts, 0 dirs\n",
            "/usr/local/share/fonts: caching, new cache contents: 0 fonts, 0 dirs\n",
            "/root/.local/share/fonts: skipping, no such directory\n",
            "/root/.fonts: skipping, no such directory\n",
            "/var/cache/fontconfig: cleaning cache directory\n",
            "/root/.cache/fontconfig: not cleaning non-existent cache directory\n",
            "/root/.fontconfig: not cleaning non-existent cache directory\n",
            "fc-cache: succeeded\n"
          ]
        }
      ]
    },
    {
      "cell_type": "code",
      "source": [
        "#데이터 불러오기\n",
        "(train_X, train_Y), (test_X, test_Y) = boston_housing.load_data() #X는 가격 예측을 위한 데이터(독립변수) Y는 주택 가격(종속변수)"
      ],
      "metadata": {
        "id": "cJ6szsQjMWXQ",
        "colab": {
          "base_uri": "https://localhost:8080/"
        },
        "outputId": "10830b8b-f1d7-40d4-f4ea-667997b39f73"
      },
      "execution_count": null,
      "outputs": [
        {
          "output_type": "stream",
          "name": "stdout",
          "text": [
            "Downloading data from https://storage.googleapis.com/tensorflow/tf-keras-datasets/boston_housing.npz\n",
            "57344/57026 [==============================] - 0s 0us/step\n",
            "65536/57026 [==================================] - 0s 0us/step\n"
          ]
        }
      ]
    },
    {
      "cell_type": "code",
      "source": [
        "train_X.shape #404개의 train 샘플 13가지 수치"
      ],
      "metadata": {
        "colab": {
          "base_uri": "https://localhost:8080/"
        },
        "id": "vqG-ZC7cpKjs",
        "outputId": "0c0ec4ea-871d-4077-835b-4386add354f9"
      },
      "execution_count": null,
      "outputs": [
        {
          "output_type": "execute_result",
          "data": {
            "text/plain": [
              "(404, 13)"
            ]
          },
          "metadata": {},
          "execution_count": 3
        }
      ]
    },
    {
      "cell_type": "code",
      "source": [
        "test_X.shape  #102개의 test 샘플 13가지 수치\n",
        "#train데이터와 test데이터 8:2<-가장 이상적"
      ],
      "metadata": {
        "colab": {
          "base_uri": "https://localhost:8080/"
        },
        "id": "KspKfxTNpUBt",
        "outputId": "784e98e1-aab2-4b7c-9656-7b25551a0e4f"
      },
      "execution_count": null,
      "outputs": [
        {
          "output_type": "execute_result",
          "data": {
            "text/plain": [
              "(102, 13)"
            ]
          },
          "metadata": {},
          "execution_count": 4
        }
      ]
    },
    {
      "cell_type": "markdown",
      "source": [
        "**2022.01.03실습코드 Data Set Characteristics:**  \n",
        "\n",
        "    :Number of Instances: 506<-여기서 404개는 train_data, 102개는 test_data \n",
        "\n",
        "    :Number of Attributes: 13 numeric/categorical predictive. Median Value (attribute 14) is usually the target.\n",
        "\n",
        "    :Attribute Information (in order):\n",
        "        - CRIM     per capita crime rate by town\n",
        "        - ZN       proportion of residential land zoned for lots over 25,000 sq.ft.\n",
        "        - INDUS    proportion of non-retail business acres per town\n",
        "        - CHAS     Charles River dummy variable (= 1 if tract bounds river; 0 otherwise)\n",
        "        - NOX      nitric oxides concentration (parts per 10 million)\n",
        "        - RM       average number of rooms per dwelling\n",
        "        - AGE      proportion of owner-occupied units built prior to 1940\n",
        "        - DIS      weighted distances to five Boston employment centres\n",
        "        - RAD      index of accessibility to radial highways\n",
        "        - TAX      full-value property-tax rate per $10,000\n",
        "        - PTRATIO  pupil-teacher ratio by town\n",
        "        - B        1000(Bk - 0.63)^2 where Bk is the proportion of black people by town\n",
        "        - LSTAT    % lower status of the population\n",
        "        - MEDV     Median value of owner-occupied homes in $1000's\n",
        " "
      ],
      "metadata": {
        "id": "OmyL0xQ0hWtf"
      }
    },
    {
      "cell_type": "code",
      "source": [
        "#데이터 전처리(정규화)\n",
        "#데이터의 단위가 다른 경우는 비교하기 힘드므로(모델학습에 문제가 발생할 수 있음),\n",
        "# 일반적으로 전처리(Preprocessing) 과정에서 데이터를 정규화해줌 0~1범위\n",
        "x_mean = train_X.mean(axis=0) #평균\n",
        "x_std = train_X.std(axis=0)   #분산\n",
        "train_X -= x_mean #train_X=train_X - x_mean\n",
        "train_X /= x_std  #train_X=train_X / x_std\n",
        "test_X -= x_mean  #test_X=test_X - x_mean\n",
        "test_X /= x_std   #test_X=test_X / x_std\n",
        "\n",
        "y_mean = train_Y.mean(axis=0) #평균\n",
        "y_std = train_Y.std(axis=0)   #분산\n",
        "train_Y -= y_mean #train_Y=train_Y - y_mean\n",
        "train_Y /= y_std  #train_Y=train_Y / y_std\n",
        "test_Y -= y_mean  #test_Y=test_Y - y_mean\n",
        "test_Y /= y_std   #test_Y=test_Y / y_std"
      ],
      "metadata": {
        "id": "fek3LoeaMjl1"
      },
      "execution_count": null,
      "outputs": []
    },
    {
      "cell_type": "code",
      "source": [
        "print(train_X[0])\n",
        "print(train_Y[0])"
      ],
      "metadata": {
        "colab": {
          "base_uri": "https://localhost:8080/"
        },
        "id": "UuZWq0l0wSTp",
        "outputId": "3cf464cc-1a13-43b2-eb3f-a14bcaf42b5a"
      },
      "execution_count": null,
      "outputs": [
        {
          "output_type": "stream",
          "name": "stdout",
          "text": [
            "[-0.27224633 -0.48361547 -0.43576161 -0.25683275 -0.1652266  -0.1764426\n",
            "  0.81306188  0.1166983  -0.62624905 -0.59517003  1.14850044  0.44807713\n",
            "  0.8252202 ]\n",
            "-0.7821526033779157\n"
          ]
        }
      ]
    },
    {
      "cell_type": "code",
      "source": [
        "#Boston Housing Dataset 회귀 모델 생성\n",
        "model = tf.keras.Sequential([\n",
        "    tf.keras.layers.Dense(units=64, activation='relu', input_shape=(train_X.shape[1],)), #샘플 개수가 적기 때문에 64개의 유닛을 가진 2개의 은닉 층으로 작은 네트워크를 구성\n",
        "    tf.keras.layers.Dense(units=64, activation='relu'),                         #일반적으로 훈련 데이터의 개수가 적을수록 과대적합이 더 쉽게 일어나므로 작은 모델을 사용하는 것이 과대적합을 피하는 한 방법\n",
        "    \n",
        "    tf.keras.layers.Dense(units=1) #하나의 연속적인 값을 예측하는 회귀를 위한 선형층 네트워크가 어떤 범위의 값이라도 예측하도록 자유롭게 학습되도록 활성화 함수 적용X \n",
        "])                                 #마지막 레이어는 주택가격인 Y값 1개만 예측하면 되기 때문에 뉴런의 수가 1개\n",
        "\n",
        "model.compile(optimizer=tf.keras.optimizers.Adam(lr=0.07), loss='mse') #Adam옵티마이저:학습률을 줄여나가고 속도를 계산하여 학습의 갱신도강도를 적응적으로 조정해나가는 방법\n",
        "\n",
        "model.summary()"
      ],
      "metadata": {
        "colab": {
          "base_uri": "https://localhost:8080/"
        },
        "id": "qu-Q_aTjwU0E",
        "outputId": "d4df1d1c-7619-4f30-c6df-7ae7b6db7036"
      },
      "execution_count": null,
      "outputs": [
        {
          "output_type": "stream",
          "name": "stdout",
          "text": [
            "Model: \"sequential\"\n",
            "_________________________________________________________________\n",
            " Layer (type)                Output Shape              Param #   \n",
            "=================================================================\n",
            " dense (Dense)               (None, 64)                896       \n",
            "                                                                 \n",
            " dense_1 (Dense)             (None, 64)                4160      \n",
            "                                                                 \n",
            " dense_2 (Dense)             (None, 1)                 65        \n",
            "                                                                 \n",
            "=================================================================\n",
            "Total params: 5,121\n",
            "Trainable params: 5,121\n",
            "Non-trainable params: 0\n",
            "_________________________________________________________________\n"
          ]
        },
        {
          "output_type": "stream",
          "name": "stderr",
          "text": [
            "/usr/local/lib/python3.7/dist-packages/keras/optimizer_v2/adam.py:105: UserWarning: The `lr` argument is deprecated, use `learning_rate` instead.\n",
            "  super(Adam, self).__init__(name, **kwargs)\n"
          ]
        }
      ]
    },
    {
      "cell_type": "code",
      "source": [
        "history = model.fit(train_X, train_Y, epochs=40, batch_size=32, \n",
        "                    callbacks=[tf.keras.callbacks.EarlyStopping(patience=5, monitor='val_loss')],validation_split=0.25,verbose=1) \n",
        "#EarlyStopping:모델을 더 이상 학습을 못할 경우(loss등의 개선이 없을 경우), 학습 도중 미리 학습을 종료시키는 콜백함수\n",
        "#val_loss가 더이상 감소되지 않을 경우 EarlyStopping을 적용\n",
        "#GPU/RAM에서 일반적으로 작동하는 방식이 2의 제곱이기 때문에 2의 제곱이 아닌 다른 숫자를 설정하면 비효율적이며 성능 저하가 일어날 수 있음"
      ],
      "metadata": {
        "colab": {
          "base_uri": "https://localhost:8080/"
        },
        "id": "xpdgWCZP5sxv",
        "outputId": "a46a1fbd-55fe-48a5-f550-325662ab8db2"
      },
      "execution_count": null,
      "outputs": [
        {
          "output_type": "stream",
          "name": "stdout",
          "text": [
            "Epoch 1/40\n",
            "10/10 [==============================] - 2s 18ms/step - loss: 3.7667 - val_loss: 1.3254\n",
            "Epoch 2/40\n",
            "10/10 [==============================] - 0s 7ms/step - loss: 0.5844 - val_loss: 0.5514\n",
            "Epoch 3/40\n",
            "10/10 [==============================] - 0s 5ms/step - loss: 0.3513 - val_loss: 0.4428\n",
            "Epoch 4/40\n",
            "10/10 [==============================] - 0s 5ms/step - loss: 0.2905 - val_loss: 0.3314\n",
            "Epoch 5/40\n",
            "10/10 [==============================] - 0s 6ms/step - loss: 0.2204 - val_loss: 0.3072\n",
            "Epoch 6/40\n",
            "10/10 [==============================] - 0s 5ms/step - loss: 0.1851 - val_loss: 0.2887\n",
            "Epoch 7/40\n",
            "10/10 [==============================] - 0s 7ms/step - loss: 0.1715 - val_loss: 0.3222\n",
            "Epoch 8/40\n",
            "10/10 [==============================] - 0s 5ms/step - loss: 0.2068 - val_loss: 0.2055\n",
            "Epoch 9/40\n",
            "10/10 [==============================] - 0s 6ms/step - loss: 0.1221 - val_loss: 0.1776\n",
            "Epoch 10/40\n",
            "10/10 [==============================] - 0s 6ms/step - loss: 0.1054 - val_loss: 0.1894\n",
            "Epoch 11/40\n",
            "10/10 [==============================] - 0s 6ms/step - loss: 0.1024 - val_loss: 0.1695\n",
            "Epoch 12/40\n",
            "10/10 [==============================] - 0s 5ms/step - loss: 0.1067 - val_loss: 0.2167\n",
            "Epoch 13/40\n",
            "10/10 [==============================] - 0s 5ms/step - loss: 0.1225 - val_loss: 0.1778\n",
            "Epoch 14/40\n",
            "10/10 [==============================] - 0s 5ms/step - loss: 0.1018 - val_loss: 0.2658\n",
            "Epoch 15/40\n",
            "10/10 [==============================] - 0s 5ms/step - loss: 0.1044 - val_loss: 0.1395\n",
            "Epoch 16/40\n",
            "10/10 [==============================] - 0s 5ms/step - loss: 0.1006 - val_loss: 0.2390\n",
            "Epoch 17/40\n",
            "10/10 [==============================] - 0s 6ms/step - loss: 0.1141 - val_loss: 0.1571\n",
            "Epoch 18/40\n",
            "10/10 [==============================] - 0s 6ms/step - loss: 0.1002 - val_loss: 0.2236\n",
            "Epoch 19/40\n",
            "10/10 [==============================] - 0s 6ms/step - loss: 0.1318 - val_loss: 0.1965\n",
            "Epoch 20/40\n",
            "10/10 [==============================] - 0s 5ms/step - loss: 0.1061 - val_loss: 0.1628\n"
          ]
        }
      ]
    },
    {
      "cell_type": "code",
      "source": [
        "#회귀 모델 학습 결과 시각화\n",
        "import matplotlib.pyplot as plt\n",
        "\n",
        "plt.plot(history.history['loss'], 'b-', label='loss')\n",
        "plt.plot(history.history['val_loss'], 'r--', label='val_loss')\n",
        "plt.xlabel('Epoch')\n",
        "plt.legend()\n",
        "plt.show()\n"
      ],
      "metadata": {
        "colab": {
          "base_uri": "https://localhost:8080/",
          "height": 279
        },
        "id": "yrgzQiW88eEf",
        "outputId": "0ec3e0e7-0af2-4146-b1c4-f7b673fc2900"
      },
      "execution_count": null,
      "outputs": [
        {
          "output_type": "display_data",
          "data": {
            "image/png": "[encoded data removed]",
            "text/plain": [
              "<Figure size 432x288 with 1 Axes>"
            ]
          },
          "metadata": {
            "needs_background": "light"
          }
        }
      ]
    },
    {
      "cell_type": "code",
      "source": [
        "# 회귀 모델 평가\n",
        "model.evaluate(test_X, test_Y)\n",
        "#낮은 손실값"
      ],
      "metadata": {
        "colab": {
          "base_uri": "https://localhost:8080/"
        },
        "id": "VN6A94uOABhj",
        "outputId": "dcd42c2e-1fcc-4a73-ade8-4a86cbb9a8ee"
      },
      "execution_count": null,
      "outputs": [
        {
          "output_type": "stream",
          "name": "stdout",
          "text": [
            "4/4 [==============================] - 0s 3ms/step - loss: 0.2319\n"
          ]
        },
        {
          "output_type": "execute_result",
          "data": {
            "text/plain": [
              "0.2319420874118805"
            ]
          },
          "metadata": {},
          "execution_count": 10
        }
      ]
    },
    {
      "cell_type": "code",
      "source": [
        "#실제 주택 가격과 예측 주택 가격 시각화\n",
        "import matplotlib.pyplot as plt\n",
        "\n",
        "pred_Y = model.predict(test_X)\n",
        "\n",
        "plt.figure(figsize=(8,8))\n",
        "plt.plot(test_Y, pred_Y, 'b.')\n",
        "plt.axis([min(test_Y), max(test_Y), min(test_Y), max(test_Y)])\n",
        "\n",
        "# y=x에 해당하는 대각선\n",
        "plt.plot([min(test_Y), max(test_Y)], [min(test_Y), max(test_Y)], ls=\"--\", c=\".3\")\n",
        "plt.xlabel('실제 주택 가격')\n",
        "plt.ylabel('예측 주택 가격')\n",
        "\n",
        "plt.show()"
      ],
      "metadata": {
        "colab": {
          "base_uri": "https://localhost:8080/",
          "height": 573
        },
        "id": "hSLiGTocEHT3",
        "outputId": "5735c62b-e371-4d59-91ef-e2eba2736c0c"
      },
      "execution_count": null,
      "outputs": [
        {
          "output_type": "stream",
          "name": "stderr",
          "text": [
            "/usr/local/lib/python3.7/dist-packages/matplotlib/backends/backend_agg.py:214: RuntimeWarning: Glyph 8722 missing from current font.\n",
            "  font.set_text(s, 0.0, flags=flags)\n",
            "/usr/local/lib/python3.7/dist-packages/matplotlib/backends/backend_agg.py:183: RuntimeWarning: Glyph 8722 missing from current font.\n",
            "  font.set_text(s, 0, flags=flags)\n"
          ]
        },
        {
          "output_type": "display_data",
          "data": {
            "image/png": "[encoded data removed]",
            "text/plain": [
              "<Figure size 576x576 with 1 Axes>"
            ]
          },
          "metadata": {
            "needs_background": "light"
          }
        }
      ]
    },
    {
      "cell_type": "code",
      "source": [
        "# Root Mean Squared Error (제곱근 평균 제곱 오차)\n",
        "import math\n",
        "mse = tf.keras.losses.MeanSquaredError()\n",
        "math.sqrt(mse(train_Y, pred_Y).numpy())"
      ],
      "metadata": {
        "colab": {
          "base_uri": "https://localhost:8080/"
        },
        "id": "ThOlYcIS7vIo",
        "outputId": "1f7d029a-2711-496d-9e73-7fa5d89a9bfe"
      },
      "execution_count": null,
      "outputs": [
        {
          "output_type": "execute_result",
          "data": {
            "text/plain": [
              "1.3287782296800208"
            ]
          },
          "metadata": {},
          "execution_count": 12
        }
      ]
    },
    {
      "cell_type": "code",
      "source": [
        "# Mean Absolute Error (평균 절대 오차)\n",
        "mae = tf.keras.losses.MeanAbsoluteError()\n",
        "mae(train_Y, pred_Y).numpy()"
      ],
      "metadata": {
        "colab": {
          "base_uri": "https://localhost:8080/"
        },
        "id": "yNHthVyC7yDg",
        "outputId": "9cce3002-9217-4654-fbbf-9adf006cfb9b"
      },
      "execution_count": null,
      "outputs": [
        {
          "output_type": "execute_result",
          "data": {
            "text/plain": [
              "1.0029565"
            ]
          },
          "metadata": {},
          "execution_count": 13
        }
      ]
    },
    {
      "cell_type": "code",
      "source": [
        "# Mean Absolute Percentage Error (평균 절대 백분율 오차)\n",
        "mape = tf.keras.losses.MeanAbsolutePercentageError()\n",
        "mape(train_Y, pred_Y).numpy()"
      ],
      "metadata": {
        "colab": {
          "base_uri": "https://localhost:8080/"
        },
        "id": "8K15hM4X7zjA",
        "outputId": "697956c1-f5ba-4a84-c448-09ea1c00cc18"
      },
      "execution_count": null,
      "outputs": [
        {
          "output_type": "execute_result",
          "data": {
            "text/plain": [
              "681.4621"
            ]
          },
          "metadata": {},
          "execution_count": 14
        }
      ]
    }
  ]
}